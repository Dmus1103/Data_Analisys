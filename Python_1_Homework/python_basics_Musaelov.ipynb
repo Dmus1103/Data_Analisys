{
 "cells": [
  {
   "cell_type": "markdown",
   "metadata": {},
   "source": [
    "**Задание 1**. Даны 2 строки: *long_phrase* и *short_phrase*. \n",
    "Напишите код, который проверяет действительно ли длинная фраза *long_phrase* длиннее короткой *short_phrase*. И выводит *True* или *False* в зависимости от результата сравнения."
   ]
  },
  {
   "cell_type": "code",
   "execution_count": 8,
   "metadata": {},
   "outputs": [],
   "source": [
    "long_phrase = 'Насколько проще было бы писать программы, если бы не заказчики'\n",
    "short_phrase = '640Кб должно хватить для любых задач. Билл Гейтс (по легенде)'"
   ]
  },
  {
   "cell_type": "code",
   "execution_count": 1,
   "metadata": {},
   "outputs": [
    {
     "name": "stdout",
     "output_type": "stream",
     "text": [
      "Please insert long phrase: ыаыаыа\n",
      "Please insert short phrase: ыав\n",
      "True\n"
     ]
    }
   ],
   "source": [
    "long_phrase = input ('Please insert long phrase: ')\n",
    "short_phrase = input ('Please insert short phrase: ')\n",
    "if len (long_phrase) > len (short_phrase):\n",
    "    print ('True')\n",
    "else:\n",
    "    print ('False')"
   ]
  },
  {
   "cell_type": "markdown",
   "metadata": {},
   "source": [
    "**Задание 2**. Дано значение объема файла в байтах (*в мегабайте 2^20 байт*). Напишите перевод этого значения в мегабайты в формате: \"*Объем файла равен 213.68Mb*\"."
   ]
  },
  {
   "cell_type": "code",
   "execution_count": null,
   "metadata": {
    "scrolled": true
   },
   "outputs": [],
   "source": [
    "file_size = int (input ('Введите объем файла в байтах '))\n",
    "a = file_size / 1048576\n",
    "print ('Объем файла в мегабайтах равен '); print(a)"
   ]
  },
  {
   "cell_type": "markdown",
   "metadata": {},
   "source": [
    "**Задание 3**. Разработать приложение для определения знака зодиака по дате рождения. Пример:\n",
    "\n",
    "Введите месяц: март\n",
    "\n",
    "Введите число: 6\n",
    "\n",
    "Вывод:\n",
    "Рыбы"
   ]
  },
  {
   "cell_type": "code",
   "execution_count": 22,
   "metadata": {},
   "outputs": [
    {
     "name": "stdout",
     "output_type": "stream",
     "text": [
      "Введите месяц рождения кириллицей февраль\n",
      "Ваш месяц рождения -  февраль\n",
      "Введите дату рождения числом 3\n",
      "Ваша дата рождения -  3\n"
     ]
    }
   ],
   "source": [
    "month = input ('Введите месяц рождения кириллицей ')\n",
    "if month.lower() == 'январь' or month.lower() == 'февраль' or month.lower() == 'март' or month.lower() == 'апрель' or month.lower() == 'май' or month.lower() == 'июнь' or month.lower() == 'июль' or month.lower() == 'август' or month.lower() == 'сентябрь' or month.lower() == 'октябрь' or month.lower() == 'ноябрь' or month.lower() == 'декабрь':\n",
    "    print ('Ваш месяц рождения - ', month.lower())\n",
    "else:\n",
    "    raise Exception ('Тут есть ошибки')\n",
    "date = int (input('Введите дату рождения числом '))\n",
    "if (1 < date < 31) and (month.lower() == 'январь'):\n",
    "    print ('Ваша дата рождения - ', date)\n",
    "elif (1 < date < 29) and (month.lower() == 'февраль'):\n",
    "    print ('Ваша дата рождения - ', date)\n",
    "elif (1 < date < 31) and (month.lower() == 'март'):\n",
    "    print ('Ваша дата рождения - ', date)\n",
    "elif (1 < date < 30) and (month.lower() == 'апрель'):\n",
    "    print ('Ваша дата рождения - ', date)\n",
    "elif (1 < date < 31) and (month.lower() == 'май'):\n",
    "    print ('Ваша дата рождения - ', date)\n",
    "elif (1 < date < 30) and (month.lower() == 'июнь'):\n",
    "    print ('Ваша дата рождения - ', date)\n",
    "elif (1 < date < 31) and (month.lower() == 'июль'):\n",
    "    print ('Ваша дата рождения - ', date)\n",
    "elif (1 < date < 31) and (month.lower() == 'август'):\n",
    "    print ('Ваша дата рождения - ', date)\n",
    "elif (1 < date < 30) and (month.lower() == 'сентябрь'):\n",
    "    print ('Ваша дата рождения - ', date)\n",
    "elif (1 < date < 31) and (month.lower() == 'октябрь'):\n",
    "    print ('Ваша дата рождения - ', date)\n",
    "elif (1 < date < 30) and (month.lower() == 'ноябрь'):\n",
    "    print ('Ваша дата рождения - ', date)\n",
    "elif (1 < date < 31) and (month.lower() == 'декабрь'):\n",
    "    print ('Ваша дата рождения - ', date)\n",
    "else:\n",
    "    raise Exception ('Ошибка в дате')"
   ]
  },
  {
   "cell_type": "markdown",
   "metadata": {},
   "source": [
    "**Задание 4**. Нужно разработать приложение для финансового планирования.\n",
    "Приложение учитывает сколько уходит на ипотеку, \"на жизнь\" и сколько нужно отложить на пенсию.\n",
    "Пользователь вводит:\n",
    "- заработанную плату в месяц.\n",
    "- сколько процентов от ЗП уходит на ипотеку.\n",
    "- сколько процентов от ЗП уходит \"на жизнь\".\n",
    "- сколько раз приходит премия в год.\n",
    "\n",
    "Остальная часть заработанной платы откладывается на пенсию.\n",
    "\n",
    "Также пользователю приходит премия в размере зарплаты, от которой половина уходит на отпуск, а вторая половина откладывается.\n",
    "\n",
    "Программа должна учитывать сколько премий было в год.\n",
    "\n",
    "Нужно вывести сколько денег тратит пользователь на ипотеку и сколько он накопит за год.\n",
    "\n",
    "Пример:\n",
    "\n",
    "Введите заработанную плату в месяц: 100000\n",
    "\n",
    "Введите сколько процентов уходит на ипотеку: 30\n",
    "\n",
    "Введите сколько процентов уходит на жизнь: 50\n",
    "\n",
    "Введите количество премий за год: 2\n",
    "\n",
    "Вывод:\n",
    "На ипотеку было потрачено: 360000 рублей\n",
    "Было накоплено: 340000 рублей"
   ]
  },
  {
   "cell_type": "code",
   "execution_count": null,
   "metadata": {},
   "outputs": [],
   "source": []
  }
 ],
 "metadata": {
  "kernelspec": {
   "display_name": "Python 3",
   "language": "python",
   "name": "python3"
  },
  "language_info": {
   "codemirror_mode": {
    "name": "ipython",
    "version": 3
   },
   "file_extension": ".py",
   "mimetype": "text/x-python",
   "name": "python",
   "nbconvert_exporter": "python",
   "pygments_lexer": "ipython3",
   "version": "3.7.6"
  }
 },
 "nbformat": 4,
 "nbformat_minor": 2
}
