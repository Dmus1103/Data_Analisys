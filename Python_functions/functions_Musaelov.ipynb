{
 "cells": [
  {
   "cell_type": "markdown",
   "metadata": {},
   "source": [
    "Вы работаете секретарем и вам постоянно приходят различные документы. Вы должны быть очень внимательны, чтобы не потерять ни один документ. Каталог документов хранится в следующем виде:"
   ]
  },
  {
   "cell_type": "code",
   "execution_count": 1,
   "metadata": {},
   "outputs": [],
   "source": [
    "documents = [\n",
    "    {'type': 'passport', 'number': '2207 876234', 'name': 'Василий Гупкин'},\n",
    "    {'type': 'invoice', 'number': '11-2', 'name': 'Геннадий Покемонов'},\n",
    "    {'type': 'insurance', 'number': '10006', 'name': 'Аристарх Павлов'}\n",
    "]"
   ]
  },
  {
   "cell_type": "markdown",
   "metadata": {},
   "source": [
    "Перечень полок, на которых находятся документы хранится в следующем виде:"
   ]
  },
  {
   "cell_type": "code",
   "execution_count": 1,
   "metadata": {},
   "outputs": [],
   "source": [
    "directories = {\n",
    "    '1': ['2207 876234', '11-2'],\n",
    "    '2': ['10006'],\n",
    "    '3': []\n",
    "}"
   ]
  },
  {
   "cell_type": "markdown",
   "metadata": {},
   "source": [
    "--ВЫПОЛНЕНИЕ--"
   ]
  },
  {
   "cell_type": "code",
   "execution_count": 2,
   "metadata": {},
   "outputs": [],
   "source": [
    "def people_by_doc():\n",
    "    user_input = input('Введите номер документа: ')\n",
    "    for el in documents:    \n",
    "        if user_input == el['number']:\n",
    "            return el['name']\n",
    "    return 'Нет такого документа!'"
   ]
  },
  {
   "cell_type": "code",
   "execution_count": 4,
   "metadata": {},
   "outputs": [
    {
     "name": "stdout",
     "output_type": "stream",
     "text": [
      "Введите номер документа: 11-2\n",
      "Геннадий Покемонов\n"
     ]
    }
   ],
   "source": [
    "people_by_doc()"
   ]
  },
  {
   "cell_type": "code",
   "execution_count": 5,
   "metadata": {},
   "outputs": [],
   "source": [
    "def shelf_by_doc():\n",
    "    user_input = input('Введите номер документа: ')\n",
    "    for item in directories.items():\n",
    "    #     print(item[1])\n",
    "        if user_input in item[1]:\n",
    "            return(item[0])\n",
    "    return 'Нет такого документа!'"
   ]
  },
  {
   "cell_type": "code",
   "execution_count": 6,
   "metadata": {},
   "outputs": [
    {
     "name": "stdout",
     "output_type": "stream",
     "text": [
      "Введите номер документа: 1000\n",
      "Нет такого документа!\n"
     ]
    }
   ],
   "source": [
    "shelf_by_doc()"
   ]
  },
  {
   "cell_type": "code",
   "execution_count": 6,
   "metadata": {},
   "outputs": [],
   "source": [
    "def list_all_docs():\n",
    "    for el in documents:\n",
    "        x = f\"{el['type']}, {el['number']}, {el['name']}\"\n",
    "        print(x)"
   ]
  },
  {
   "cell_type": "code",
   "execution_count": 8,
   "metadata": {},
   "outputs": [
    {
     "name": "stdout",
     "output_type": "stream",
     "text": [
      "passport, 2207 876234, Василий Гупкин\n",
      "invoice, 11-2, Геннадий Покемонов\n",
      "insurance, 10006, Аристарх Павлов\n",
      "None\n"
     ]
    }
   ],
   "source": [
    "list_all_docs()"
   ]
  },
  {
   "cell_type": "code",
   "execution_count": 7,
   "metadata": {},
   "outputs": [],
   "source": [
    "def add_shelf():\n",
    "    user_input = input('Введите новый номер полки: ')\n",
    "    if user_input not in directories.keys():\n",
    "        directories[user_input] = []\n",
    "        print(directories)\n",
    "    else:\n",
    "        print('Такая полка уже существует')"
   ]
  },
  {
   "cell_type": "code",
   "execution_count": 10,
   "metadata": {},
   "outputs": [
    {
     "name": "stdout",
     "output_type": "stream",
     "text": [
      "Введите новый номер полки: 2\n",
      "Такая полка уже существует\n",
      "None\n"
     ]
    }
   ],
   "source": [
    "add_shelf()"
   ]
  },
  {
   "cell_type": "code",
   "execution_count": 8,
   "metadata": {},
   "outputs": [],
   "source": [
    "def delete():\n",
    "    user_input = input('Введите номер документа: ')\n",
    "    for el in documents:\n",
    "        if user_input == el['number']:\n",
    "            del(el['number'])\n",
    "    \n",
    "    for value in directories.values():\n",
    "        if user_input in value:\n",
    "            value.remove(user_input)\n",
    "            return(documents, '    ', directories)\n",
    "    print('Нет такого документа!')"
   ]
  },
  {
   "cell_type": "code",
   "execution_count": 12,
   "metadata": {},
   "outputs": [
    {
     "name": "stdout",
     "output_type": "stream",
     "text": [
      "Введите номер документа: 654654\n",
      "Нет такого документа!\n",
      "None\n"
     ]
    }
   ],
   "source": [
    "delete()"
   ]
  },
  {
   "cell_type": "code",
   "execution_count": 9,
   "metadata": {},
   "outputs": [],
   "source": [
    "def move():\n",
    "    user_input = input('Введите номер документа: ')\n",
    "    user_shelf_input = input('Введите номер полки, на которую Вы хотите переместить данный документ: ')\n",
    "    doc_found = 0\n",
    "    for value in directories.values():\n",
    "        if user_input in value and user_shelf_input in directories:\n",
    "            value.remove(user_input)\n",
    "            doc_found = user_input\n",
    "    if user_shelf_input in directories and doc_found != 0:\n",
    "        directories[user_shelf_input].append(doc_found)    \n",
    "        return(directories)\n",
    "    print('Нет запращиваемого документа или полки!')"
   ]
  },
  {
   "cell_type": "code",
   "execution_count": null,
   "metadata": {},
   "outputs": [],
   "source": [
    "move()"
   ]
  },
  {
   "cell_type": "code",
   "execution_count": 10,
   "metadata": {},
   "outputs": [],
   "source": [
    "def add_new_doc():\n",
    "    user_input_doc = input('Введите НОМЕР добавляемого документа: ')\n",
    "    user_input_type = input('Введите ТИП добавляемого документа: ')\n",
    "    user_input_name = input('Введите ФИО ВЛАДЕЛЬЦА добавляемого документа: ')\n",
    "    user_input_shelf = input('Введите НОМЕР ПОЛКИ, на которую Вы хотите поместить добавляемый документа: ')\n",
    "    doc_found = 0\n",
    "    for el in documents:\n",
    "        if user_input_doc in el.values():\n",
    "            print('Такой документ уже есть! ')\n",
    "            doc_found = 1\n",
    "            break  \n",
    "    if doc_found == 0:\n",
    "        documents.append({'type': user_input_type, 'number': user_input_doc, 'name': user_input_name})\n",
    "\n",
    "    if user_input_shelf in directories.keys() and doc_found == 0:\n",
    "        directories[user_input_shelf].append(user_input_doc)\n",
    "        return(documents, '    ', directories)\n",
    "    print('Такой полки не существует или введённый документ уже есть!')"
   ]
  },
  {
   "cell_type": "code",
   "execution_count": 19,
   "metadata": {},
   "outputs": [
    {
     "name": "stdout",
     "output_type": "stream",
     "text": [
      "Введите НОМЕР добавляемого документа: 11-2\n",
      "Введите ТИП добавляемого документа: fghj\n",
      "Введите ФИО ВЛАДЕЛЬЦА добавляемого документа: ojjdfhn\n",
      "Введите НОМЕР ПОЛКИ, на которую Вы хотите поместить добавляемый документа: 3\n",
      "Такой документ уже есть! \n",
      "Такой полки не существует или введённый документ уже есть!\n"
     ]
    }
   ],
   "source": [
    "add_new_doc()"
   ]
  },
  {
   "cell_type": "code",
   "execution_count": 12,
   "metadata": {},
   "outputs": [],
   "source": [
    "def main_prog():\n",
    "    while True:\n",
    "        user_input = input('Введите команду: p, s, l, as, d, m, a. Для выхода введите q: ')\n",
    "        if user_input == 'p':\n",
    "            people_by_doc()\n",
    "        elif user_input == 's':\n",
    "            shelf_by_doc()\n",
    "        elif user_input == 'l':\n",
    "            list_all_docs()\n",
    "        elif user_input == 'as':\n",
    "            add_shelf()\n",
    "        elif user_input == 'd':\n",
    "            delete()\n",
    "        elif user_input == 'm':\n",
    "            move()\n",
    "        elif user_input == 'a':\n",
    "            add_new_doc()\n",
    "        elif user_input == 'q':\n",
    "            break"
   ]
  },
  {
   "cell_type": "code",
   "execution_count": 13,
   "metadata": {},
   "outputs": [
    {
     "name": "stdout",
     "output_type": "stream",
     "text": [
      "Введите команду: p, s, l, as, d, m, a. Для выхода введите q: p\n",
      "Введите номер документа: 11-2\n",
      "Введите команду: p, s, l, as, d, m, a. Для выхода введите q: s\n",
      "Введите номер документа: l\n",
      "Введите команду: p, s, l, as, d, m, a. Для выхода введите q: as\n",
      "Введите новый номер полки: 2\n",
      "Такая полка уже существует\n",
      "Введите команду: p, s, l, as, d, m, a. Для выхода введите q: d\n",
      "Введите номер документа: 12345\n",
      "Нет такого документа!\n",
      "Введите команду: p, s, l, as, d, m, a. Для выхода введите q: m\n",
      "Введите номер документа: 12345\n",
      "Введите номер полки, на которую Вы хотите переместить данный документ: 3\n",
      "Нет запращиваемого документа или полки!\n",
      "Введите команду: p, s, l, as, d, m, a. Для выхода введите q: a\n",
      "Введите НОМЕР добавляемого документа: 11-2\n",
      "Введите ТИП добавляемого документа: dsf\n",
      "Введите ФИО ВЛАДЕЛЬЦА добавляемого документа: SDKFMSK\n",
      "Введите НОМЕР ПОЛКИ, на которую Вы хотите поместить добавляемый документа: 3\n",
      "Такой документ уже есть! \n",
      "Такой полки не существует или введённый документ уже есть!\n",
      "Введите команду: p, s, l, as, d, m, a. Для выхода введите q: q\n"
     ]
    }
   ],
   "source": [
    "main_prog()"
   ]
  },
  {
   "cell_type": "markdown",
   "metadata": {},
   "source": [
    "Необходимо реализовать пользовательские команды (внимание! это не название функций, которые должны быть выразительными, а команды, которые вводит пользователь, чтобы получить необходимый результат):\n",
    "  \n",
    "- p – people – команда, которая спросит номер документа и выведет имя человека, которому он принадлежит;  \n",
    "- s – shelf – команда, которая спросит номер документа и выведет номер полки, на которой он находится  \n",
    "*Правильно обработайте ситуации, когда пользователь будет вводить несуществующий документ*.\n",
    "- l – list – команда, которая выведет список всех документов в формате   \n",
    "**passport \"2207 876234\" \"Василий Гупкин\"**  \n",
    "- as – add shelf – команда, которая спросит номер новой полки и добавит ее в перечень. *Предусмотрите случай, когда пользователь добавляет полку, которая уже существует*.\n",
    "- d – delete – команда, которая спросит номер документа и удалит его из каталога и из перечня полок. *Предусмотрите сценарий, когда пользователь вводит несуществующий документ*;  \n",
    "- m – move – команда, которая спросит номер документа и целевую полку и переместит его с текущей полки на целевую. *Корректно обработайте кейсы, когда пользователь пытается переместить несуществующий документ или переместить документ на несуществующую полку*;  \n",
    "- a – add – команда, которая добавит новый документ в каталог и в перечень полок, спросив его номер, тип, имя владельца и номер полки, на котором он будет храниться. *Корректно обработайте ситуацию, когда пользователь будет пытаться добавить документ на несуществующую полку*."
   ]
  }
 ],
 "metadata": {
  "kernelspec": {
   "display_name": "Python 3",
   "language": "python",
   "name": "python3"
  },
  "language_info": {
   "codemirror_mode": {
    "name": "ipython",
    "version": 3
   },
   "file_extension": ".py",
   "mimetype": "text/x-python",
   "name": "python",
   "nbconvert_exporter": "python",
   "pygments_lexer": "ipython3",
   "version": "3.7.6"
  }
 },
 "nbformat": 4,
 "nbformat_minor": 2
}
